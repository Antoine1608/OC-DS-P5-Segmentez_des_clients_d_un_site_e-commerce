{
 "cells": [
  {
   "cell_type": "code",
   "execution_count": 1,
   "id": "bbe53b6f",
   "metadata": {},
   "outputs": [],
   "source": [
    "#Général\n",
    "import numpy as np\n",
    "import pandas as pd\n",
    "import warnings\n",
    "warnings.filterwarnings(\"ignore\")\n",
    "from sklearn.pipeline import Pipeline\n",
    "import datetime\n",
    "import time\n",
    "from tqdm import tqdm\n",
    "\n",
    "#Preprocessing\n",
    "from sklearn.preprocessing import StandardScaler, MinMaxScaler, RobustScaler\n",
    "\n",
    "#Modèles\n",
    "from sklearn import cluster\n",
    "from sklearn.cluster import KMeans\n",
    "\n",
    "#Réduction des dimensions\n",
    "from sklearn.decomposition import PCA\n",
    "\n",
    "#Métriques\n",
    "from sklearn.metrics import adjusted_rand_score\n",
    "\n",
    "#Visualisation\n",
    "import matplotlib.pyplot as plt\n",
    "import plotly.graph_objs as go\n",
    "import seaborn as sns"
   ]
  },
  {
   "cell_type": "code",
   "execution_count": 2,
   "id": "79025186",
   "metadata": {},
   "outputs": [],
   "source": [
    "df=pd.read_csv('df33d.csv')"
   ]
  },
  {
   "cell_type": "markdown",
   "id": "15189d90",
   "metadata": {},
   "source": [
    "## Maintenance du modèle"
   ]
  },
  {
   "cell_type": "code",
   "execution_count": 3,
   "id": "3dd10950",
   "metadata": {},
   "outputs": [],
   "source": [
    "#On va utiliser un échantillon aléatoire\n",
    "df1=df.sample(n=30000)"
   ]
  },
  {
   "cell_type": "code",
   "execution_count": 4,
   "id": "85f79634",
   "metadata": {},
   "outputs": [],
   "source": [
    "#On convertit la date texte en date type datetime.datetime\n",
    "date_init=datetime.datetime.strptime('2017-09-01 00:00:00', '%Y-%m-%d %H:%M:%S')\n",
    "date_init_str = '2017-09-01 00:00:00'"
   ]
  },
  {
   "cell_type": "code",
   "execution_count": 5,
   "id": "e0c801cd",
   "metadata": {},
   "outputs": [],
   "source": [
    "#on réduit la base aux customer_unique_id de la période d'initialisation de la base\n",
    "rows = df1.loc[df1['order_purchase_timestamp']<date_init_str,:]['customer_unique_id'].unique()\n",
    "data = df1.loc[df1['customer_unique_id'].isin(rows),:]"
   ]
  },
  {
   "cell_type": "code",
   "execution_count": 6,
   "id": "d8782895",
   "metadata": {},
   "outputs": [],
   "source": [
    "#la fonction\n",
    "def data_(data,date):\n",
    "    # 3-3-c Définition de nouvelles variables\n",
    "\n",
    "    #data.order_purchase_timestamp.astype('float64')\n",
    "    df33cr = data.loc[data.order_purchase_timestamp < date]\n",
    "\n",
    "\n",
    "    #tri de la base par date d'achat\n",
    "    df33cr = df33cr.sort_values('order_purchase_timestamp')\n",
    "\n",
    "   \n",
    "    dt_base = datetime.datetime.strptime(date,'%Y-%m-%d %H:%M:%S')\n",
    "    type(dt_base)\n",
    "\n",
    "    df33cr\n",
    "\n",
    "    #3-3-e Regroupement de la base par client unique\n",
    "\n",
    "    #df33x=df33cr.groupby('customer_unique_id').mean()\n",
    "    df33x=df33cr.groupby('customer_unique_id').agg({'review_score':['mean'],\n",
    "                                                'payment_sequential':['mean'],\n",
    "                                                'payment_installments':['mean'],\n",
    "                                                'payment_value':['mean'],\n",
    "                                                'price':['mean'],\n",
    "                                                'freight_value':['mean'],\n",
    "                                                'Recence':['last'],\n",
    "                                                'Frequence':['last'], \n",
    "                                                'Montant':['last'],\n",
    "                                                'payment_type_boleto':['mean'],\n",
    "                                                'payment_type_credit_card':['mean'], \n",
    "                                                'payment_type_debit_card':['mean'],\n",
    "                                                'payment_type_voucher':['mean'],\n",
    "                                                'product_category_name_english_Alimentation':['mean'],\n",
    "                                                'product_category_name_english_Animaux_de_compagnie':['mean'],\n",
    "                                                'product_category_name_english_Auto_moto':['mean'],\n",
    "                                                'product_category_name_english_Enfant_bébé':['mean'],\n",
    "                                                'product_category_name_english_High-tech_électronique':['mean'],\n",
    "                                                'product_category_name_english_Loisirs_culture_divertissement':['mean'],\n",
    "                                                'product_category_name_english_Maison_jardin':['mean'],\n",
    "                                                'product_category_name_english_Mode_accessoires':['mean'],\n",
    "                                                'product_category_name_english_Outils_construction':['mean'],\n",
    "                                                'product_category_name_english_Papeterie_bureau':['mean'],\n",
    "                                                'product_category_name_english_Santé_beauté':['mean']\n",
    "                                                })\n",
    "       \n",
    "    return(df33x)   #"
   ]
  },
  {
   "cell_type": "code",
   "execution_count": 7,
   "id": "a6858420",
   "metadata": {},
   "outputs": [],
   "source": [
    "#les données initales\n",
    "B_init=data_(data,date_init_str)"
   ]
  },
  {
   "cell_type": "code",
   "execution_count": 8,
   "id": "f31bd94e",
   "metadata": {},
   "outputs": [
    {
     "data": {
      "text/plain": [
       "'2016-09-05 00:15:34'"
      ]
     },
     "execution_count": 8,
     "metadata": {},
     "output_type": "execute_result"
    }
   ],
   "source": [
    "#pour info\n",
    "min(df['order_purchase_timestamp'])"
   ]
  },
  {
   "cell_type": "code",
   "execution_count": 9,
   "id": "827bd1f1",
   "metadata": {},
   "outputs": [
    {
     "data": {
      "text/plain": [
       "'2018-10-17 17:30:18'"
      ]
     },
     "execution_count": 9,
     "metadata": {},
     "output_type": "execute_result"
    }
   ],
   "source": [
    "#pour info\n",
    "max(df['order_purchase_timestamp'])"
   ]
  },
  {
   "cell_type": "code",
   "execution_count": 10,
   "id": "d7d37f64",
   "metadata": {},
   "outputs": [],
   "source": [
    "#le modèle\n",
    "model = Pipeline([('pca' , PCA(n_components = 5)),\n",
    "                 ('scaler', RobustScaler()),\n",
    "                 ('model', KMeans(n_clusters=3, init='k-means++', random_state=42))\n",
    "                ])"
   ]
  },
  {
   "cell_type": "code",
   "execution_count": 11,
   "id": "c7134c2a",
   "metadata": {
    "scrolled": true
   },
   "outputs": [
    {
     "data": {
      "text/plain": [
       "[0, 1, 2, 3, 4, 5, 6, 7, 8, 9, 10, 11, 12, 13, 14, 15, 16, 17, 18, 19, 20]"
      ]
     },
     "execution_count": 11,
     "metadata": {},
     "output_type": "execute_result"
    }
   ],
   "source": [
    "dates=[str(date_init+datetime.timedelta(30*i)) for i in range(21)]"
   ]
  },
  {
   "cell_type": "code",
   "execution_count": 12,
   "id": "90914f52",
   "metadata": {},
   "outputs": [
    {
     "name": "stdout",
     "output_type": "stream",
     "text": [
      "<class 'pandas.core.frame.DataFrame'>\n",
      "RangeIndex: 129200 entries, 0 to 129199\n",
      "Data columns (total 25 columns):\n",
      " #   Column                                                                Non-Null Count   Dtype  \n",
      "---  ------                                                                --------------   -----  \n",
      " 0   (review_score, mean)                                                  129200 non-null  float64\n",
      " 1   (payment_sequential, mean)                                            129200 non-null  float64\n",
      " 2   (payment_installments, mean)                                          129200 non-null  float64\n",
      " 3   (payment_value, mean)                                                 129200 non-null  float64\n",
      " 4   (price, mean)                                                         129200 non-null  float64\n",
      " 5   (freight_value, mean)                                                 129200 non-null  float64\n",
      " 6   (Recence, last)                                                       129200 non-null  int64  \n",
      " 7   (Frequence, last)                                                     129200 non-null  float64\n",
      " 8   (Montant, last)                                                       129200 non-null  float64\n",
      " 9   (payment_type_boleto, mean)                                           129200 non-null  float64\n",
      " 10  (payment_type_credit_card, mean)                                      129200 non-null  float64\n",
      " 11  (payment_type_debit_card, mean)                                       129200 non-null  float64\n",
      " 12  (payment_type_voucher, mean)                                          129200 non-null  float64\n",
      " 13  (product_category_name_english_Alimentation, mean)                    129200 non-null  float64\n",
      " 14  (product_category_name_english_Animaux_de_compagnie, mean)            129200 non-null  float64\n",
      " 15  (product_category_name_english_Auto_moto, mean)                       129200 non-null  float64\n",
      " 16  (product_category_name_english_Enfant_bébé, mean)                     129200 non-null  float64\n",
      " 17  (product_category_name_english_High-tech_électronique, mean)          129200 non-null  float64\n",
      " 18  (product_category_name_english_Loisirs_culture_divertissement, mean)  129200 non-null  float64\n",
      " 19  (product_category_name_english_Maison_jardin, mean)                   129200 non-null  float64\n",
      " 20  (product_category_name_english_Mode_accessoires, mean)                129200 non-null  float64\n",
      " 21  (product_category_name_english_Outils_construction, mean)             129200 non-null  float64\n",
      " 22  (product_category_name_english_Papeterie_bureau, mean)                129200 non-null  float64\n",
      " 23  (product_category_name_english_Santé_beauté, mean)                    129200 non-null  float64\n",
      " 24  (date_i, )                                                            129200 non-null  object \n",
      "dtypes: float64(23), int64(1), object(1)\n",
      "memory usage: 24.6+ MB\n"
     ]
    }
   ],
   "source": [
    "# bouclage pour créer la liste des données mises à jour\n",
    "# Par mois\n",
    "dates=[str(date_init+datetime.timedelta(30*i)) for i in range(20)]\n",
    "dfi_t = pd.DataFrame()\n",
    "\n",
    "for i in range(len(dates)):\n",
    "    dfi=data_(data,dates[i])\n",
    "\n",
    "    #rajout d'une colonne date_i à dfi\n",
    "    dfi['date_i'] = dates[i]\n",
    "    dfi_t = pd.concat([dfi_t,dfi] , ignore_index = True)"
   ]
  },
  {
   "cell_type": "code",
   "execution_count": 13,
   "id": "93add265",
   "metadata": {},
   "outputs": [
    {
     "name": "stdout",
     "output_type": "stream",
     "text": [
      "CPU times: total: 3.31 s\n",
      "Wall time: 1.94 s\n"
     ]
    }
   ],
   "source": [
    "%%time\n",
    "model.fit(dfi_t.select_dtypes(exclude = 'object'))\n",
    "labels_dfi_t = model.named_steps['model'].labels_"
   ]
  },
  {
   "cell_type": "code",
   "execution_count": 14,
   "id": "2a55f8ab",
   "metadata": {},
   "outputs": [
    {
     "name": "stderr",
     "output_type": "stream",
     "text": [
      "100%|██████████████████████████████████████████████████████████████████████████████████| 14/14 [00:00<00:00, 26.54it/s]\n"
     ]
    },
    {
     "name": "stdout",
     "output_type": "stream",
     "text": [
      "CPU times: total: 578 ms\n",
      "Wall time: 642 ms\n"
     ]
    },
    {
     "data": {
      "image/png": "[encoded data removed]",
      "text/plain": [
       "<Figure size 640x480 with 1 Axes>"
      ]
     },
     "metadata": {},
     "output_type": "display_data"
    }
   ],
   "source": [
    "%%time\n",
    "# bouclage pour créer la liste des RI\n",
    "dfi_t['cluster'] = labels_dfi_t\n",
    "\n",
    "# Par mois\n",
    "dates=[str(date_init+datetime.timedelta(30*i)) for i in range(14)]\n",
    "dates\n",
    "ARI = []\n",
    "for i in tqdm(range(len(dates))):\n",
    "    \n",
    "    Ri=adjusted_rand_score(dfi_t.loc[dfi_t['date_i'] == dates[0]]['cluster'],\n",
    "                           dfi_t.loc[dfi_t['date_i'] == dates[i]]['cluster'])\n",
    "    ARI.append(Ri)\n",
    "   \n",
    "plt.plot(dates[0:len(dates)],ARI,'o',ls = '-')\n",
    "plt.xticks(rotation=45,fontsize=10)\n",
    "plt.tight_layout()"
   ]
  }
 ],
 "metadata": {
  "kernelspec": {
   "display_name": "Python 3 (ipykernel)",
   "language": "python",
   "name": "python3"
  },
  "language_info": {
   "codemirror_mode": {
    "name": "ipython",
    "version": 3
   },
   "file_extension": ".py",
   "mimetype": "text/x-python",
   "name": "python",
   "nbconvert_exporter": "python",
   "pygments_lexer": "ipython3",
   "version": "3.9.13"
  }
 },
 "nbformat": 4,
 "nbformat_minor": 5
}
